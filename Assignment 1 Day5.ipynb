{
  "nbformat": 4,
  "nbformat_minor": 0,
  "metadata": {
    "colab": {
      "name": "Day5 Question 1.ipynb",
      "provenance": [],
      "collapsed_sections": [],
      "authorship_tag": "ABX9TyNzl7j98XfaVFNkqeETKVAp",
      "include_colab_link": true
    },
    "kernelspec": {
      "name": "python3",
      "display_name": "Python 3"
    }
  },
  "cells": [
    {
      "cell_type": "markdown",
      "metadata": {
        "id": "view-in-github",
        "colab_type": "text"
      },
      "source": [
        "<a href=\"https://colab.research.google.com/github/sssinghsimran7/day5-let-supgrade/blob/master/Day5_Question_1.ipynb\" target=\"_parent\"><img src=\"https://colab.research.google.com/assets/colab-badge.svg\" alt=\"Open In Colab\"/></a>"
      ]
    },
    {
      "cell_type": "code",
      "metadata": {
        "id": "QLwOAu9Cih5D",
        "colab_type": "code",
        "colab": {
          "base_uri": "https://localhost:8080/",
          "height": 174
        },
        "outputId": "4b0eed14-c51b-4633-ab45-8a844211b28b"
      },
      "source": [
        " \n",
        "# Day5 (Question 1)\n",
        "\n",
        "\n",
        "lst = [1, 1, 5]\n",
        " \n",
        "lst1 = []\n",
        " \n",
        "l = int(input(\"Enter the length of the list : \"))\n",
        " \n",
        "j = 0;\n",
        " \n",
        "# creating a list from user value\n",
        " \n",
        "for i in range (0,l):\n",
        " \n",
        "    lst1.append(int(input(\"Enter the numbers present in the list one by one : \")))\n",
        " \n",
        " \n",
        "print(\"\\nList is : \", lst1)\n",
        " \n",
        "for i in range(0,l):\n",
        "    \n",
        "    if( lst1[i] == lst[j] ):\n",
        "        \n",
        "        j += 1\n",
        "        \n",
        "        i += 1\n",
        "        \n",
        "    else:\n",
        "        \n",
        "        i +=1\n",
        "    \n",
        "if( j == 3 ):\n",
        " \n",
        "    print (\"\\n  It's a match\")\n",
        " \n",
        "else:\n",
        " \n",
        "    print (\"\\n  It's Gone\")"
      ],
      "execution_count": 1,
      "outputs": [
        {
          "output_type": "stream",
          "text": [
            "Enter the length of the list : 3\n",
            "Enter the numbers present in the list one by one : 2\n",
            "Enter the numbers present in the list one by one : 4\n",
            "Enter the numbers present in the list one by one : 4\n",
            "\n",
            "List is :  [2, 4, 4]\n",
            "\n",
            "  It's Gone\n"
          ],
          "name": "stdout"
        }
      ]
    }
  ]
}
