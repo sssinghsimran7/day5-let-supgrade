{
  "nbformat": 4,
  "nbformat_minor": 0,
  "metadata": {
    "colab": {
      "name": "Assignment 3  day5.ipynb",
      "provenance": [],
      "collapsed_sections": [],
      "authorship_tag": "ABX9TyPTeNenaD7wJeXBuLaBqDsM",
      "include_colab_link": true
    },
    "kernelspec": {
      "name": "python3",
      "display_name": "Python 3"
    }
  },
  "cells": [
    {
      "cell_type": "markdown",
      "metadata": {
        "id": "view-in-github",
        "colab_type": "text"
      },
      "source": [
        "<a href=\"https://colab.research.google.com/github/sssinghsimran7/day5-let-supgrade/blob/master/Assignment_3_day5.ipynb\" target=\"_parent\"><img src=\"https://colab.research.google.com/assets/colab-badge.svg\" alt=\"Open In Colab\"/></a>"
      ]
    },
    {
      "cell_type": "code",
      "metadata": {
        "id": "KmqdXYM-fj_A",
        "colab_type": "code",
        "colab": {
          "base_uri": "https://localhost:8080/",
          "height": 174
        },
        "outputId": "afb49adf-83de-4abe-80e8-28bfc30e9975"
      },
      "source": [
        "#  Day5(QUESTION 3)\n",
        " \n",
        "lst = [\"hey i am simran singh\",\"i am from patiala\",\"i am a science graduate\"]\n",
        " \n",
        "print(\"\\nOriginal list : \\n\")\n",
        " \n",
        "print(lst)\n",
        " \n",
        "result = list(map(lambda word: word.title() ,lst))\n",
        " \n",
        "print(\"\\nCapitalized list is :\\n \")\n",
        " \n",
        "print(result)"
      ],
      "execution_count": 6,
      "outputs": [
        {
          "output_type": "stream",
          "text": [
            "\n",
            "Original list : \n",
            "\n",
            "['hey i am simran singh', 'i am from patiala', 'i am a science graduate']\n",
            "\n",
            "Capitalized list is :\n",
            " \n",
            "['Hey I Am Simran Singh', 'I Am From Patiala', 'I Am A Science Graduate']\n"
          ],
          "name": "stdout"
        }
      ]
    }
  ]
}